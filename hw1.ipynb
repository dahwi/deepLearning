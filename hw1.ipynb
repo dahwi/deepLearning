{
  "nbformat": 4,
  "nbformat_minor": 0,
  "metadata": {
    "colab": {
      "provenance": [],
      "mount_file_id": "1SMkoJfFRI-B1PwHJkPCuRDIOHsbcbtAb",
      "authorship_tag": "ABX9TyMMEVbekNEXTbyu9xxxYK9H",
      "include_colab_link": true
    },
    "kernelspec": {
      "name": "python3",
      "display_name": "Python 3"
    },
    "language_info": {
      "name": "python"
    }
  },
  "cells": [
    {
      "cell_type": "markdown",
      "metadata": {
        "id": "view-in-github",
        "colab_type": "text"
      },
      "source": [
        "<a href=\"https://colab.research.google.com/github/dahwi/deepLearning/blob/main/hw1.ipynb\" target=\"_parent\"><img src=\"https://colab.research.google.com/assets/colab-badge.svg\" alt=\"Open In Colab\"/></a>"
      ]
    },
    {
      "cell_type": "code",
      "execution_count": 35,
      "metadata": {
        "id": "LWQzjwLWbWJP"
      },
      "outputs": [],
      "source": [
        "import torch\n",
        "import torch.nn as nn\n",
        "import torch.optim as optim\n",
        "from torchvision import datasets, transforms\n",
        "from torch.utils.data import random_split, DataLoader\n",
        "import matplotlib.pyplot as plt\n",
        "\n",
        "# Define transformations\n",
        "transform = transforms.Compose([transforms.ToTensor(),\n",
        "                                transforms.Normalize((0.5,), (0.5,))])\n",
        "\n",
        "# Download and load the training set\n",
        "trainset = datasets.FashionMNIST('~/.pytorch/F_MNIST_data/', download=True, train=True, transform=transform)\n",
        "# Split the dataset into training and validation sets\n",
        "train_size = int(0.8 * len(trainset))\n",
        "val_size = len(trainset) - train_size\n",
        "train_subset, val_subset = random_split(trainset, [train_size, val_size])\n",
        "\n",
        "trainloader = DataLoader(train_subset, batch_size=64, shuffle=True)\n",
        "valloader = DataLoader(val_subset, batch_size=64, shuffle=False)\n",
        "\n",
        "# Download and load the test set\n",
        "testset = datasets.FashionMNIST('~/.pytorch/F_MNIST_data/', download=True, train=False, transform=transform)\n",
        "testloader = DataLoader(testset, batch_size=64, shuffle=False)"
      ]
    },
    {
      "cell_type": "code",
      "source": [
        "class LeNet5(nn.Module):\n",
        "    def __init__(self, dropout=False, batch_norm=False):\n",
        "        super().__init__()\n",
        "        self.conv1 = nn.Conv2d(1, 6, kernel_size=5)\n",
        "        self.conv2 = nn.Conv2d(6, 16, kernel_size=5)\n",
        "        self.conv3 = nn.Conv2d(16, 120, kernel_size=4)\n",
        "        self.fc1 = nn.Linear(120, 84)\n",
        "        self.fc2 = nn.Linear(84, 10)\n",
        "\n",
        "        self.dropout = nn.Dropout(0.5) if dropout else nn.Identity()\n",
        "        self.batch_norm1 = nn.BatchNorm2d(6) if batch_norm else nn.Identity()\n",
        "        self.batch_norm2 = nn.BatchNorm2d(16) if batch_norm else nn.Identity()\n",
        "\n",
        "    def forward(self, x):\n",
        "        x = nn.functional.relu(self.conv1(x))\n",
        "        x = self.batch_norm1(x)\n",
        "        x = nn.functional.max_pool2d(x, 2)\n",
        "        x = nn.functional.relu(self.conv2(x))\n",
        "        x = self.batch_norm2(x)\n",
        "        x = nn.functional.max_pool2d(x, 2)\n",
        "        x = nn.functional.relu(self.conv3(x))\n",
        "        x = x.view(-1, 120)\n",
        "        x = nn.functional.relu(self.fc1(x))\n",
        "        x = self.dropout(x)\n",
        "        x = self.fc2(x)\n",
        "        return x"
      ],
      "metadata": {
        "id": "Ku0D0Whsjs3N"
      },
      "execution_count": 36,
      "outputs": []
    },
    {
      "cell_type": "code",
      "source": [
        "def train_model(model, train_loader, val_loader, criterion, optimizer, epochs=10, use_dropout_for_accuracy=True):\n",
        "    best_val_accuracy = 0.0\n",
        "    best_model_state = None\n",
        "    train_accuracies = []\n",
        "    val_accuracies = []\n",
        "\n",
        "    for epoch in range(epochs):\n",
        "        model.train()\n",
        "        correct = 0\n",
        "        total = 0\n",
        "        for images, labels in train_loader:\n",
        "            optimizer.zero_grad()\n",
        "            outputs = model(images)\n",
        "            loss = criterion(outputs, labels)\n",
        "            loss.backward()\n",
        "            optimizer.step()\n",
        "            _, predicted = torch.max(outputs.data, 1)\n",
        "            total += labels.size(0)\n",
        "            correct += (predicted == labels).sum().item()\n",
        "        # go over the training set and measure wo dropout\n",
        "        if use_dropout_for_accuracy:\n",
        "            model.eval()\n",
        "            correct = 0\n",
        "            total = 0\n",
        "            with torch.no_grad():\n",
        "                for images, labels in train_loader:\n",
        "                    outputs = model(images)\n",
        "                    _, predicted = torch.max(outputs.data, 1)\n",
        "                    total += labels.size(0)\n",
        "                    correct += (predicted == labels).sum().item()\n",
        "            model.train()\n",
        "        train_accuracy = 100 * correct / total\n",
        "        train_accuracies.append(train_accuracy)\n",
        "\n",
        "        # Validation phase\n",
        "        model.eval()\n",
        "        correct = 0\n",
        "        total = 0\n",
        "        with torch.no_grad():\n",
        "            for images, labels in val_loader:\n",
        "                outputs = model(images)\n",
        "                _, predicted = torch.max(outputs.data, 1)\n",
        "                total += labels.size(0)\n",
        "                correct += (predicted == labels).sum().item()\n",
        "\n",
        "        val_accuracy = 100 * correct / total\n",
        "        val_accuracies.append(val_accuracy)\n",
        "\n",
        "        print(f\"Epoch {epoch+1}/{epochs}, Train Accuracy: {train_accuracy}%, Validation Accuracy: {val_accuracy}%\")\n",
        "\n",
        "        # Save the best model\n",
        "        if val_accuracy > best_val_accuracy:\n",
        "            best_val_accuracy = val_accuracy\n",
        "            best_model_state = model.state_dict()\n",
        "\n",
        "    # Load the best model state\n",
        "    model.load_state_dict(best_model_state)\n",
        "    return model, train_accuracies, val_accuracies\n",
        "\n",
        "def evaluate_model(model, test_loader):\n",
        "    model.eval()\n",
        "    correct = 0\n",
        "    total = 0\n",
        "    with torch.no_grad():\n",
        "        for images, labels in test_loader:\n",
        "            outputs = model(images)\n",
        "            _, predicted = torch.max(outputs.data, 1)\n",
        "            total += labels.size(0)\n",
        "            correct += (predicted == labels).sum().item()\n",
        "\n",
        "    accuracy = 100 * correct / total\n",
        "    print(f\"Test Accuracy: {accuracy}%\")\n",
        "    return accuracy"
      ],
      "metadata": {
        "id": "d5vLP8YOgOGj"
      },
      "execution_count": 38,
      "outputs": []
    },
    {
      "cell_type": "code",
      "source": [
        "criterion = nn.CrossEntropyLoss()\n",
        "learning_rate = 1e-8\n",
        "\n",
        "model = LeNet5()\n",
        "optimizer = optim.Adam(model.parameters(), lr=learning_rate)\n",
        "\n",
        "train_accuracies_no_reg = train_model(model, trainloader, criterion, optimizer)\n",
        "test_accuracies_no_reg = evaluate_model(model, testloader)"
      ],
      "metadata": {
        "colab": {
          "base_uri": "https://localhost:8080/"
        },
        "id": "1GdyVTYDc6VI",
        "outputId": "6a2fdc38-ac46-41d5-be7e-3292628f4786"
      },
      "execution_count": 34,
      "outputs": [
        {
          "output_type": "stream",
          "name": "stdout",
          "text": [
            "Epoch 1/10, Train Accuracy: 78.00416666666666%\n",
            "Epoch 2/10, Train Accuracy: 84.25%\n",
            "Epoch 3/10, Train Accuracy: 85.68333333333334%\n",
            "Epoch 4/10, Train Accuracy: 85.98958333333333%\n",
            "Epoch 5/10, Train Accuracy: 86.12708333333333%\n",
            "Epoch 6/10, Train Accuracy: 86.48125%\n",
            "Epoch 7/10, Train Accuracy: 86.80208333333333%\n",
            "Epoch 8/10, Train Accuracy: 86.84375%\n",
            "Epoch 9/10, Train Accuracy: 87.09791666666666%\n",
            "Epoch 10/10, Train Accuracy: 87.44583333333334%\n",
            "Test Accuracy: 85.84%\n"
          ]
        }
      ]
    },
    {
      "cell_type": "code",
      "source": [
        "model_dropout = LeNet5(dropout=True)\n",
        "optimizer = torch.optim.Adam(model_dropout.parameters(), lr=learning_rate)\n",
        "\n",
        "train_accuracies_dropout = train_model(model_dropout, trainloader, criterion, optimizer, use_dropout_for_accuracy=False)\n",
        "test_accuracies_dropout = evaluate_model(model_dropout, testloader)"
      ],
      "metadata": {
        "id": "EghphVDNAXlX"
      },
      "execution_count": null,
      "outputs": []
    },
    {
      "cell_type": "code",
      "source": [
        "model_batchnorm = LeNet5(batch_norm=True)\n",
        "optimizer = torch.optim.Adam(model_batchnorm.parameters(), lr=learning_rate)\n",
        "\n",
        "train_accuracies_batchnorm = train_model(model_batchnorm, trainloader, criterion, optimizer)\n",
        "test_accuracies_batchnorm = evaluate_model(model_batchnorm, testloader)"
      ],
      "metadata": {
        "id": "U9mxAfqXAcVk"
      },
      "execution_count": null,
      "outputs": []
    },
    {
      "cell_type": "code",
      "source": [
        "model = LeNet5()\n",
        "optimizer = optim.Adam(model.parameters(), lr=learning_rate, weight_decay=0.01)\n",
        "\n",
        "train_accuracies_weight_decay = train_model(model, trainloader, criterion, optimizer)\n",
        "test_accuracies_weight_decay = evaluate_model(model, testloader)"
      ],
      "metadata": {
        "id": "hKJMUhsjAf0a"
      },
      "execution_count": null,
      "outputs": []
    },
    {
      "cell_type": "code",
      "source": [
        "epochs = range(1, 20)\n",
        "\n",
        "# Plotting convergence graphs\n",
        "plt.figure(figsize=(12, 8))\n",
        "\n",
        "plt.subplot(2, 2, 1)\n",
        "plt.plot(epochs, train_accuracies_no_reg, 'r', label='Train Accuracy')\n",
        "plt.plot(epochs, [test_accuracies_no_reg]*len(epochs), 'r--', label='Test Accuracy')\n",
        "plt.title('No Regularization')\n",
        "plt.xlabel('Epochs')\n",
        "plt.ylabel('Accuracy')\n",
        "plt.legend()\n",
        "\n",
        "plt.subplot(2, 2, 2)\n",
        "plt.plot(epochs, train_accuracies_dropout, 'g', label='Train Accuracy')\n",
        "plt.plot(epochs, [test_accuracies_dropout]*len(epochs), 'g--', label='Test Accuracy')\n",
        "plt.title('Dropout')\n",
        "plt.xlabel('Epochs')\n",
        "plt.ylabel('Accuracy')\n",
        "plt.legend()\n",
        "\n",
        "plt.subplot(2, 2, 3)\n",
        "plt.plot(epochs, train_accuracies_batchnorm, 'b', label='Train Accuracy')\n",
        "plt.plot(epochs, [test_accuracies_batchnorm]*len(epochs), 'b--', label='Test Accuracy')\n",
        "plt.title('Batch Normalization')\n",
        "plt.xlabel('Epochs')\n",
        "plt.ylabel('Accuracy')\n",
        "plt.legend()\n",
        "\n",
        "plt.subplot(2, 2, 4)\n",
        "plt.plot(epochs, train_accuracies_weight_decay, 'y', label='Train Accuracy')\n",
        "plt.plot(epochs, [test_accuracies_weight_decay]*len(epochs), 'y--', label='Test Accuracy')\n",
        "plt.title('Weight Decay')\n",
        "plt.xlabel('Epochs')\n",
        "plt.ylabel('Accuracy')\n",
        "plt.legend()\n",
        "\n",
        "plt.tight_layout()\n",
        "plt.show()"
      ],
      "metadata": {
        "id": "s1joeW75m_wO"
      },
      "execution_count": null,
      "outputs": []
    }
  ]
}