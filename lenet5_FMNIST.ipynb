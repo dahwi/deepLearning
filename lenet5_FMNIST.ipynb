{
  "cells": [
    {
      "cell_type": "markdown",
      "metadata": {
        "colab_type": "text",
        "id": "view-in-github"
      },
      "source": [
        "<a href=\"https://colab.research.google.com/github/dahwi/deepLearning/blob/main/hw1.ipynb\" target=\"_parent\"><img src=\"https://colab.research.google.com/assets/colab-badge.svg\" alt=\"Open In Colab\"/></a>"
      ]
    },
    {
      "cell_type": "code",
      "execution_count": 35,
      "metadata": {
        "id": "LWQzjwLWbWJP"
      },
      "outputs": [],
      "source": [
        "import torch\n",
        "import torch.nn as nn\n",
        "import torch.optim as optim\n",
        "from torchvision import datasets, transforms\n",
        "from torch.utils.data import random_split, DataLoader\n",
        "import matplotlib.pyplot as plt\n",
        "\n",
        "# Define transformations\n",
        "transform = transforms.Compose([transforms.ToTensor(),\n",
        "                                transforms.Normalize((0.5,), (0.5,))])\n",
        "\n",
        "# Create datasets for training & validation, download if necessary\n",
        "trainset = datasets.FashionMNIST('./data', train=True, transform=transform, download=True)\n",
        "# Split the dataset into training and validation sets\n",
        "train_size = int(0.8 * len(trainset))\n",
        "val_size = len(trainset) - train_size\n",
        "train_subset, val_subset = random_split(trainset, [train_size, val_size])\n",
        "\n",
        "# load the training and validation datasets using DataLoader\n",
        "train_loader = DataLoader(train_subset, batch_size=64, shuffle=True)\n",
        "val_loader = DataLoader(val_subset, batch_size=64, shuffle=False)\n",
        "\n",
        "# Download and load the test set\n",
        "testset = datasets.FashionMNIST('./data', download=True, train=False, transform=transform)\n",
        "test_loader = DataLoader(testset, batch_size=64, shuffle=False)"
      ]
    },
    {
      "cell_type": "code",
      "execution_count": 36,
      "metadata": {
        "id": "Ku0D0Whsjs3N"
      },
      "outputs": [],
      "source": [
        "class LeNet5(nn.Module):\n",
        "    def __init__(self, dropout=False, batch_norm=False):\n",
        "        super().__init__()\n",
        "        self.conv1 = nn.Conv2d(1, 6, kernel_size=5)\n",
        "        self.conv2 = nn.Conv2d(6, 16, kernel_size=5)\n",
        "        self.fc1 = nn.Linear(16*4*4, 120)\n",
        "        self.fc2 = nn.Linear(120, 84)\n",
        "        self.fc3 = nn.Linear(84, 10)\n",
        "\n",
        "        self.dropout = nn.Dropout(0.5) if dropout else nn.Identity()\n",
        "        self.batch_norm1 = nn.BatchNorm2d(6) if batch_norm else nn.Identity()\n",
        "        self.batch_norm2 = nn.BatchNorm2d(16) if batch_norm else nn.Identity()\n",
        "\n",
        "    def forward(self, x):\n",
        "        x = nn.functional.relu(self.conv1(x))\n",
        "        x = self.batch_norm1(x) # no-op if batch_norm is False\n",
        "        x = nn.functional.max_pool2d(x, 2)\n",
        "        x = nn.functional.relu(self.conv2(x))\n",
        "        x = self.batch_norm2(x) # no-op if batch_norm is False\n",
        "        x = nn.functional.max_pool2d(x, 2)\n",
        "        x = x.view(-1, 16*4*4) # can be replaced with torch.flatten(x, start_dim=1)\n",
        "        x = nn.functional.relu(self.fc1(x))\n",
        "        x = nn.functional.relu(self.fc2(x))\n",
        "        x = self.dropout(x) # no-op if dropout is False\n",
        "        x = self.fc3(x)\n",
        "        return x"
      ]
    },
    {
      "cell_type": "code",
      "execution_count": 38,
      "metadata": {
        "id": "d5vLP8YOgOGj"
      },
      "outputs": [],
      "source": [
        "def train_model(model, loss_fn, optimizer, epochs=10, measure_without_dropout=False):\n",
        "    best_val_accuracy = 0.0\n",
        "    best_model_state = None\n",
        "    train_accuracies, val_accuracies, test_accuracies = [], [], []\n",
        "\n",
        "    for epoch in range(epochs):\n",
        "        model.train()\n",
        "        correct = 0\n",
        "        total = 0\n",
        "        for images, labels in train_loader:\n",
        "            optimizer.zero_grad()\n",
        "            outputs = model(images)\n",
        "            # Compute the loss and its gradients\n",
        "            loss = loss_fn(outputs, labels)\n",
        "            loss.backward()\n",
        "            # Adjust learning weights\n",
        "            optimizer.step()\n",
        "            _, predicted = torch.max(outputs.data, 1)\n",
        "            total += labels.size(0)\n",
        "            correct += (predicted == labels).sum().item()\n",
        "            \n",
        "        train_accuracy = 100 * correct / total\n",
        "\n",
        "        # for model using dropout regularization, go over the training set and measure the accuracy wo dropout \n",
        "        if measure_without_dropout:\n",
        "            train_accuracy = evaluate_model(model, train_loader)\n",
        "            model.train()\n",
        "    \n",
        "        train_accuracies.append(train_accuracy)\n",
        "\n",
        "        # Validation phase\n",
        "        val_accuracy = evaluate_model(model, val_loader)\n",
        "        val_accuracies.append(val_accuracy)\n",
        "        \n",
        "        # test the model for each epoch\n",
        "        test_accuracy = evaluate_model(model, test_loader)\n",
        "        test_accuracies.append(test_accuracy)\n",
        "\n",
        "        print(f\"Epoch {epoch+1}/{epochs}, Train Accuracy: {train_accuracy}%, Validation Accuracy: {val_accuracy}%, Test Accuracy: {test_accuracy}%\")\n",
        "\n",
        "        # Save the best model\n",
        "        if val_accuracy > best_val_accuracy:\n",
        "            best_val_accuracy = val_accuracy\n",
        "            best_model_state = model.state_dict()\n",
        "\n",
        "    # Load the best model state\n",
        "    model.load_state_dict(best_model_state)\n",
        "    return model, train_accuracies, val_accuracies, test_accuracies\n",
        "\n",
        "def evaluate_model(model, data_loader):\n",
        "    model.eval()\n",
        "    correct = 0\n",
        "    total = 0\n",
        "    # Disable gradient computation and reduce memory consumption\n",
        "    with torch.no_grad():\n",
        "        for images, labels in data_loader:\n",
        "            outputs = model(images)\n",
        "            _, predicted = torch.max(outputs.data, 1)\n",
        "            total += labels.size(0)\n",
        "            correct += (predicted == labels).sum().item()\n",
        "\n",
        "    accuracy = 100 * correct / total\n",
        "    return accuracy"
      ]
    },
    {
      "cell_type": "code",
      "execution_count": null,
      "metadata": {
        "colab": {
          "base_uri": "https://localhost:8080/"
        },
        "id": "1GdyVTYDc6VI",
        "outputId": "6a2fdc38-ac46-41d5-be7e-3292628f4786"
      },
      "outputs": [],
      "source": [
        "loss_fn = nn.CrossEntropyLoss()\n",
        "learning_rate = 1e-3\n",
        "\n",
        "model = LeNet5()\n",
        "optimizer = optim.Adam(model.parameters(), lr=learning_rate)\n",
        "\n",
        "#TODO: return type is different now and we need to graph the results with both training and test accuracies\n",
        "train_accuracies_no_reg = train_model(model, loss_fn, optimizer, 10)\n",
        "test_accuracies_no_reg = evaluate_model(model, test_loader)"
      ]
    },
    {
      "cell_type": "code",
      "execution_count": null,
      "metadata": {
        "id": "EghphVDNAXlX"
      },
      "outputs": [],
      "source": [
        "model_dropout = LeNet5(dropout=True)\n",
        "optimizer = optim.Adam(model.parameters(), lr=learning_rate)\n",
        "\n",
        "#TODO: return type is different now and we need to graph the results with both training and test accuracies\n",
        "train_accuracies_dropout = train_model(model_dropout, loss_fn, optimizer, measure_without_dropout=True)\n",
        "test_accuracies_dropout = evaluate_model(model_dropout, test_loader)"
      ]
    },
    {
      "cell_type": "code",
      "execution_count": null,
      "metadata": {
        "id": "U9mxAfqXAcVk"
      },
      "outputs": [],
      "source": [
        "model_batchnorm = LeNet5(batch_norm=True)\n",
        "optimizer = optim.Adam(model.parameters(), lr=learning_rate)\n",
        "\n",
        "#TODO: return type is different now and we need to graph the results with both training and test accuracies\n",
        "train_accuracies_batchnorm = train_model(model_batchnorm, loss_fn, optimizer)\n",
        "test_accuracies_batchnorm = evaluate_model(model_batchnorm, test_loader)"
      ]
    },
    {
      "cell_type": "code",
      "execution_count": null,
      "metadata": {
        "id": "hKJMUhsjAf0a"
      },
      "outputs": [],
      "source": [
        "model = LeNet5()\n",
        "optimizer = optim.Adam(model.parameters(), lr=learning_rate, weight_decay=0.01)\n",
        "\n",
        "#TODO: return type is different now and we need to graph the results with both training and test accuracies\n",
        "train_accuracies_weight_decay = train_model(model, loss_fn, optimizer)\n",
        "test_accuracies_weight_decay = evaluate_model(model, test_loader)"
      ]
    },
    {
      "cell_type": "code",
      "execution_count": null,
      "metadata": {
        "id": "s1joeW75m_wO"
      },
      "outputs": [],
      "source": [
        "epochs = range(1, 20)\n",
        "\n",
        "# Plotting convergence graphs\n",
        "plt.figure(figsize=(12, 8))\n",
        "\n",
        "plt.subplot(2, 2, 1)\n",
        "plt.plot(epochs, train_accuracies_no_reg, 'r', label='Train Accuracy')\n",
        "plt.plot(epochs, [test_accuracies_no_reg]*len(epochs), 'r--', label='Test Accuracy')\n",
        "plt.title('No Regularization')\n",
        "plt.xlabel('Epochs')\n",
        "plt.ylabel('Accuracy')\n",
        "plt.legend()\n",
        "\n",
        "plt.subplot(2, 2, 2)\n",
        "plt.plot(epochs, train_accuracies_dropout, 'g', label='Train Accuracy')\n",
        "plt.plot(epochs, [test_accuracies_dropout]*len(epochs), 'g--', label='Test Accuracy')\n",
        "plt.title('Dropout')\n",
        "plt.xlabel('Epochs')\n",
        "plt.ylabel('Accuracy')\n",
        "plt.legend()\n",
        "\n",
        "plt.subplot(2, 2, 3)\n",
        "plt.plot(epochs, train_accuracies_batchnorm, 'b', label='Train Accuracy')\n",
        "plt.plot(epochs, [test_accuracies_batchnorm]*len(epochs), 'b--', label='Test Accuracy')\n",
        "plt.title('Batch Normalization')\n",
        "plt.xlabel('Epochs')\n",
        "plt.ylabel('Accuracy')\n",
        "plt.legend()\n",
        "\n",
        "plt.subplot(2, 2, 4)\n",
        "plt.plot(epochs, train_accuracies_weight_decay, 'y', label='Train Accuracy')\n",
        "plt.plot(epochs, [test_accuracies_weight_decay]*len(epochs), 'y--', label='Test Accuracy')\n",
        "plt.title('Weight Decay')\n",
        "plt.xlabel('Epochs')\n",
        "plt.ylabel('Accuracy')\n",
        "plt.legend()\n",
        "\n",
        "plt.tight_layout()\n",
        "plt.show()"
      ]
    }
  ],
  "metadata": {
    "colab": {
      "authorship_tag": "ABX9TyMMEVbekNEXTbyu9xxxYK9H",
      "include_colab_link": true,
      "mount_file_id": "1SMkoJfFRI-B1PwHJkPCuRDIOHsbcbtAb",
      "provenance": []
    },
    "kernelspec": {
      "display_name": "Python 3",
      "name": "python3"
    },
    "language_info": {
      "name": "python"
    }
  },
  "nbformat": 4,
  "nbformat_minor": 0
}
